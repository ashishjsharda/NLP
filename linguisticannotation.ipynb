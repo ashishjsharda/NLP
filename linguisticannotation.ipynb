{
  "nbformat": 4,
  "nbformat_minor": 0,
  "metadata": {
    "colab": {
      "provenance": []
    },
    "kernelspec": {
      "name": "python3",
      "display_name": "Python 3"
    },
    "language_info": {
      "name": "python"
    }
  },
  "cells": [
    {
      "cell_type": "code",
      "execution_count": 2,
      "metadata": {
        "colab": {
          "base_uri": "https://localhost:8080/"
        },
        "id": "OlCEmvbm2EB4",
        "outputId": "996ef7bf-4c1a-402f-9bcb-5f31cba7ac4e"
      },
      "outputs": [
        {
          "output_type": "stream",
          "name": "stdout",
          "text": [
            "Rumor | PROPN | nsubj\n",
            "has | VERB | ROOT\n",
            "it | PRON | dobj\n",
            "that | SCONJ | mark\n",
            "Apple | PROPN | nsubj\n",
            "is | AUX | ccomp\n",
            "interested | ADJ | acomp\n",
            "in | ADP | prep\n",
            "acquiring | VERB | pcomp\n",
            "a | DET | det\n",
            "UK | PROPN | compound\n",
            "company | NOUN | dobj\n",
            "worth | ADJ | amod\n",
            "$ | SYM | quantmod\n",
            "1 | NUM | compound\n",
            "billion | NUM | npadvmod\n",
            ". | PUNCT | punct\n"
          ]
        }
      ],
      "source": [
        "import spacy\n",
        "nlp = spacy.load(\"en_core_web_sm\")\n",
        "input_text =\"Rumor has it that Apple is interested in acquiring a UK company worth $1 billion.\"\n",
        "doc = nlp(input_text)\n",
        "for token in doc:\n",
        "  print(f\"{token.text} | {token.pos_} | {token.dep_}\")"
      ]
    }
  ]
}