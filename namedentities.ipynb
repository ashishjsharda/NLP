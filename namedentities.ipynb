{
  "nbformat": 4,
  "nbformat_minor": 0,
  "metadata": {
    "colab": {
      "provenance": []
    },
    "kernelspec": {
      "name": "python3",
      "display_name": "Python 3"
    },
    "language_info": {
      "name": "python"
    }
  },
  "cells": [
    {
      "cell_type": "code",
      "execution_count": 1,
      "metadata": {
        "colab": {
          "base_uri": "https://localhost:8080/"
        },
        "id": "OlCEmvbm2EB4",
        "outputId": "3d113e10-7349-4f48-cdfa-c0c66d518759"
      },
      "outputs": [
        {
          "output_type": "stream",
          "name": "stdout",
          "text": [
            "Rumor 0 5 ORG\n",
            "Apple 18 23 ORG\n",
            "UK 53 55 GPE\n",
            "$1 billion 70 80 MONEY\n"
          ]
        }
      ],
      "source": [
        "import spacy\n",
        "nlp = spacy.load(\"en_core_web_sm\")\n",
        "input_text =\"Rumor has it that Apple is interested in acquiring a UK company worth $1 billion.\"\n",
        "doc = nlp(input_text)\n",
        "for ent in doc.ents:\n",
        "    print(ent.text, ent.start_char, ent.end_char, ent.label_)"
      ]
    }
  ]
}